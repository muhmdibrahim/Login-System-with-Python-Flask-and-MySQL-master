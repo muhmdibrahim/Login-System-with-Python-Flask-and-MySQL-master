{
 "cells": [
  {
   "cell_type": "code",
   "execution_count": 13,
   "metadata": {},
   "outputs": [
    {
     "name": "stdout",
     "output_type": "stream",
     "text": [
      "Requirement already satisfied: pandas in c:\\users\\mibra\\anaconda3\\envs\\tensorflow\\lib\\site-packages (2.2.0)\n",
      "Requirement already satisfied: tzdata>=2022.7 in c:\\users\\mibra\\anaconda3\\envs\\tensorflow\\lib\\site-packages (from pandas) (2023.4)\n",
      "Requirement already satisfied: python-dateutil>=2.8.2 in c:\\users\\mibra\\anaconda3\\envs\\tensorflow\\lib\\site-packages (from pandas) (2.8.2)\n",
      "Requirement already satisfied: numpy<2,>=1.22.4 in c:\\users\\mibra\\anaconda3\\envs\\tensorflow\\lib\\site-packages (from pandas) (1.23.4)\n",
      "Requirement already satisfied: pytz>=2020.1 in c:\\users\\mibra\\anaconda3\\envs\\tensorflow\\lib\\site-packages (from pandas) (2024.1)\n",
      "Requirement already satisfied: six>=1.5 in c:\\users\\mibra\\anaconda3\\envs\\tensorflow\\lib\\site-packages (from python-dateutil>=2.8.2->pandas) (1.16.0)\n",
      "Note: you may need to restart the kernel to use updated packages.\n"
     ]
    }
   ],
   "source": [
    "pip install pandas"
   ]
  },
  {
   "cell_type": "markdown",
   "metadata": {},
   "source": [
    "pip install matplotlib"
   ]
  },
  {
   "cell_type": "code",
   "execution_count": 14,
   "metadata": {},
   "outputs": [
    {
     "name": "stdout",
     "output_type": "stream",
     "text": [
      "Requirement already satisfied: matplotlib in c:\\users\\mibra\\anaconda3\\envs\\tensorflow\\lib\\site-packages (3.6.2)\n",
      "Requirement already satisfied: cycler>=0.10 in c:\\users\\mibra\\anaconda3\\envs\\tensorflow\\lib\\site-packages (from matplotlib) (0.11.0)\n",
      "Requirement already satisfied: pyparsing>=2.2.1 in c:\\users\\mibra\\anaconda3\\envs\\tensorflow\\lib\\site-packages (from matplotlib) (3.0.9)\n",
      "Requirement already satisfied: kiwisolver>=1.0.1 in c:\\users\\mibra\\anaconda3\\envs\\tensorflow\\lib\\site-packages (from matplotlib) (1.4.2)\n",
      "Requirement already satisfied: numpy>=1.19 in c:\\users\\mibra\\anaconda3\\envs\\tensorflow\\lib\\site-packages (from matplotlib) (1.23.4)\n",
      "Requirement already satisfied: fonttools>=4.22.0 in c:\\users\\mibra\\anaconda3\\envs\\tensorflow\\lib\\site-packages (from matplotlib) (4.25.0)\n",
      "Requirement already satisfied: pillow>=6.2.0 in c:\\users\\mibra\\anaconda3\\envs\\tensorflow\\lib\\site-packages (from matplotlib) (9.3.0)\n",
      "Requirement already satisfied: contourpy>=1.0.1 in c:\\users\\mibra\\anaconda3\\envs\\tensorflow\\lib\\site-packages (from matplotlib) (1.0.5)\n",
      "Requirement already satisfied: python-dateutil>=2.7 in c:\\users\\mibra\\anaconda3\\envs\\tensorflow\\lib\\site-packages (from matplotlib) (2.8.2)\n",
      "Requirement already satisfied: packaging>=20.0 in c:\\users\\mibra\\anaconda3\\envs\\tensorflow\\lib\\site-packages (from matplotlib) (22.0)\n",
      "Requirement already satisfied: six>=1.5 in c:\\users\\mibra\\anaconda3\\envs\\tensorflow\\lib\\site-packages (from python-dateutil>=2.7->matplotlib) (1.16.0)\n",
      "Note: you may need to restart the kernel to use updated packages.\n"
     ]
    }
   ],
   "source": [
    "pip install matplotlib"
   ]
  },
  {
   "cell_type": "code",
   "execution_count": 15,
   "metadata": {},
   "outputs": [
    {
     "name": "stdout",
     "output_type": "stream",
     "text": [
      "Requirement already satisfied: numpy in c:\\users\\mibra\\anaconda3\\envs\\tensorflow\\lib\\site-packages (1.23.4)\n",
      "Note: you may need to restart the kernel to use updated packages.\n"
     ]
    }
   ],
   "source": [
    "pip install numpy"
   ]
  },
  {
   "cell_type": "code",
   "execution_count": 16,
   "metadata": {},
   "outputs": [
    {
     "name": "stdout",
     "output_type": "stream",
     "text": [
      "Requirement already satisfied: seaborn in c:\\users\\mibra\\anaconda3\\envs\\tensorflow\\lib\\site-packages (0.13.2)\n",
      "Requirement already satisfied: numpy!=1.24.0,>=1.20 in c:\\users\\mibra\\anaconda3\\envs\\tensorflow\\lib\\site-packages (from seaborn) (1.23.4)\n",
      "Requirement already satisfied: matplotlib!=3.6.1,>=3.4 in c:\\users\\mibra\\anaconda3\\envs\\tensorflow\\lib\\site-packages (from seaborn) (3.6.2)\n",
      "Requirement already satisfied: pandas>=1.2 in c:\\users\\mibra\\anaconda3\\envs\\tensorflow\\lib\\site-packages (from seaborn) (2.2.0)\n",
      "Requirement already satisfied: contourpy>=1.0.1 in c:\\users\\mibra\\anaconda3\\envs\\tensorflow\\lib\\site-packages (from matplotlib!=3.6.1,>=3.4->seaborn) (1.0.5)\n",
      "Requirement already satisfied: packaging>=20.0 in c:\\users\\mibra\\anaconda3\\envs\\tensorflow\\lib\\site-packages (from matplotlib!=3.6.1,>=3.4->seaborn) (22.0)\n",
      "Requirement already satisfied: pyparsing>=2.2.1 in c:\\users\\mibra\\anaconda3\\envs\\tensorflow\\lib\\site-packages (from matplotlib!=3.6.1,>=3.4->seaborn) (3.0.9)\n",
      "Requirement already satisfied: python-dateutil>=2.7 in c:\\users\\mibra\\anaconda3\\envs\\tensorflow\\lib\\site-packages (from matplotlib!=3.6.1,>=3.4->seaborn) (2.8.2)\n",
      "Requirement already satisfied: fonttools>=4.22.0 in c:\\users\\mibra\\anaconda3\\envs\\tensorflow\\lib\\site-packages (from matplotlib!=3.6.1,>=3.4->seaborn) (4.25.0)\n",
      "Requirement already satisfied: kiwisolver>=1.0.1 in c:\\users\\mibra\\anaconda3\\envs\\tensorflow\\lib\\site-packages (from matplotlib!=3.6.1,>=3.4->seaborn) (1.4.2)\n",
      "Requirement already satisfied: cycler>=0.10 in c:\\users\\mibra\\anaconda3\\envs\\tensorflow\\lib\\site-packages (from matplotlib!=3.6.1,>=3.4->seaborn) (0.11.0)\n",
      "Requirement already satisfied: pillow>=6.2.0 in c:\\users\\mibra\\anaconda3\\envs\\tensorflow\\lib\\site-packages (from matplotlib!=3.6.1,>=3.4->seaborn) (9.3.0)\n",
      "Requirement already satisfied: pytz>=2020.1 in c:\\users\\mibra\\anaconda3\\envs\\tensorflow\\lib\\site-packages (from pandas>=1.2->seaborn) (2024.1)\n",
      "Requirement already satisfied: tzdata>=2022.7 in c:\\users\\mibra\\anaconda3\\envs\\tensorflow\\lib\\site-packages (from pandas>=1.2->seaborn) (2023.4)\n",
      "Requirement already satisfied: six>=1.5 in c:\\users\\mibra\\anaconda3\\envs\\tensorflow\\lib\\site-packages (from python-dateutil>=2.7->matplotlib!=3.6.1,>=3.4->seaborn) (1.16.0)\n",
      "Note: you may need to restart the kernel to use updated packages.\n"
     ]
    }
   ],
   "source": [
    "pip install seaborn"
   ]
  },
  {
   "cell_type": "code",
   "execution_count": 21,
   "metadata": {},
   "outputs": [
    {
     "name": "stdout",
     "output_type": "stream",
     "text": [
      "Collecting scikit-learn\n",
      "  Downloading scikit_learn-1.4.0-1-cp39-cp39-win_amd64.whl (10.6 MB)\n",
      "     ---------------------------------------- 10.6/10.6 MB 2.0 MB/s eta 0:00:00\n",
      "Collecting threadpoolctl>=2.0.0\n",
      "  Using cached threadpoolctl-3.2.0-py3-none-any.whl (15 kB)\n",
      "Requirement already satisfied: numpy<2.0,>=1.19.5 in c:\\users\\mibra\\anaconda3\\envs\\tensorflow\\lib\\site-packages (from scikit-learn) (1.23.4)\n",
      "Requirement already satisfied: scipy>=1.6.0 in c:\\users\\mibra\\anaconda3\\envs\\tensorflow\\lib\\site-packages (from scikit-learn) (1.9.3)\n",
      "Collecting joblib>=1.2.0\n",
      "  Using cached joblib-1.3.2-py3-none-any.whl (302 kB)\n",
      "Installing collected packages: threadpoolctl, joblib, scikit-learn\n",
      "Successfully installed joblib-1.3.2 scikit-learn-1.4.0 threadpoolctl-3.2.0\n",
      "Note: you may need to restart the kernel to use updated packages.\n"
     ]
    }
   ],
   "source": [
    "pip install scikit-learn"
   ]
  },
  {
   "cell_type": "code",
   "execution_count": 22,
   "metadata": {},
   "outputs": [
    {
     "name": "stdout",
     "output_type": "stream",
     "text": [
      "   age  sex  chest pain type  resting bp s  cholesterol  fasting blood sugar  \\\n",
      "0   40    1                2           140          289                    0   \n",
      "1   49    0                3           160          180                    0   \n",
      "2   37    1                2           130          283                    0   \n",
      "3   48    0                4           138          214                    0   \n",
      "4   54    1                3           150          195                    0   \n",
      "5   39    1                3           120          339                    0   \n",
      "6   45    0                2           130          237                    0   \n",
      "7   54    1                2           110          208                    0   \n",
      "8   37    1                4           140          207                    0   \n",
      "9   48    0                2           120          284                    0   \n",
      "\n",
      "   resting ecg  max heart rate  exercise angina  oldpeak  ST slope  target  \n",
      "0            0             172                0      0.0         1       0  \n",
      "1            0             156                0      1.0         2       1  \n",
      "2            1              98                0      0.0         1       0  \n",
      "3            0             108                1      1.5         2       1  \n",
      "4            0             122                0      0.0         1       0  \n",
      "5            0             170                0      0.0         1       0  \n",
      "6            0             170                0      0.0         1       0  \n",
      "7            0             142                0      0.0         1       0  \n",
      "8            0             130                1      1.5         2       1  \n",
      "9            0             120                0      0.0         1       0  \n",
      "age                    0\n",
      "sex                    0\n",
      "chest pain type        0\n",
      "resting bp s           0\n",
      "cholesterol            0\n",
      "fasting blood sugar    0\n",
      "resting ecg            0\n",
      "max heart rate         0\n",
      "exercise angina        0\n",
      "oldpeak                0\n",
      "ST slope               0\n",
      "target                 0\n",
      "dtype: int64\n",
      "<class 'pandas.core.frame.DataFrame'>\n",
      "RangeIndex: 1190 entries, 0 to 1189\n",
      "Data columns (total 12 columns):\n",
      " #   Column               Non-Null Count  Dtype  \n",
      "---  ------               --------------  -----  \n",
      " 0   age                  1190 non-null   int64  \n",
      " 1   sex                  1190 non-null   int64  \n",
      " 2   chest pain type      1190 non-null   int64  \n",
      " 3   resting bp s         1190 non-null   int64  \n",
      " 4   cholesterol          1190 non-null   int64  \n",
      " 5   fasting blood sugar  1190 non-null   int64  \n",
      " 6   resting ecg          1190 non-null   int64  \n",
      " 7   max heart rate       1190 non-null   int64  \n",
      " 8   exercise angina      1190 non-null   int64  \n",
      " 9   oldpeak              1190 non-null   float64\n",
      " 10  ST slope             1190 non-null   int64  \n",
      " 11  target               1190 non-null   int64  \n",
      "dtypes: float64(1), int64(11)\n",
      "memory usage: 111.7 KB\n",
      "None\n",
      "age\n",
      "54    51\n",
      "58    42\n",
      "55    41\n",
      "56    38\n",
      "57    38\n",
      "52    36\n",
      "51    35\n",
      "59    35\n",
      "62    35\n",
      "53    33\n",
      "60    32\n",
      "48    31\n",
      "61    31\n",
      "63    30\n",
      "50    25\n",
      "46    24\n",
      "41    24\n",
      "43    24\n",
      "64    22\n",
      "65    21\n",
      "49    21\n",
      "47    19\n",
      "44    19\n",
      "42    18\n",
      "45    18\n",
      "38    16\n",
      "67    15\n",
      "39    15\n",
      "66    13\n",
      "69    13\n",
      "40    13\n",
      "35    11\n",
      "37    11\n",
      "68    10\n",
      "34     7\n",
      "74     7\n",
      "70     7\n",
      "36     6\n",
      "71     5\n",
      "32     5\n",
      "72     4\n",
      "29     3\n",
      "75     3\n",
      "33     2\n",
      "77     2\n",
      "76     2\n",
      "31     2\n",
      "30     1\n",
      "28     1\n",
      "73     1\n",
      "Name: count, dtype: int64\n",
      "sex\n",
      "1    725\n",
      "0    193\n",
      "Name: count, dtype: int64\n",
      "chest pain type\n",
      "4    496\n",
      "3    203\n",
      "2    173\n",
      "1     46\n",
      "Name: count, dtype: int64\n"
     ]
    },
    {
     "data": {
      "image/png": "[encoded data removed]",
      "text/plain": [
       "<Figure size 1500x1000 with 1 Axes>"
      ]
     },
     "metadata": {},
     "output_type": "display_data"
    },
    {
     "name": "stdout",
     "output_type": "stream",
     "text": [
      "mean squared error = 0.22282608695652173 \n",
      "accuracy score = 77.72 \n",
      "None\n",
      "mean squared error = 0.41304347826086957 \n",
      "accuracy score = 58.7 \n",
      "None\n",
      "mean squared error = 0.23369565217391305 \n",
      "accuracy score = 76.63 \n",
      "None\n",
      "mean squared error = 0.20652173913043478 \n",
      "accuracy score = 79.35 \n",
      "None\n",
      "mean squared error = 0.22282608695652173 \n",
      "accuracy score = 77.72 \n",
      "None\n",
      "mean squared error = 0.1956521739130435 \n",
      "accuracy score = 80.43 \n",
      "<class 'sklearn.ensemble._weight_boosting.AdaBoostClassifier'>\n"
     ]
    },
    {
     "name": "stderr",
     "output_type": "stream",
     "text": [
      "c:\\Users\\mibra\\anaconda3\\envs\\tensorflow\\lib\\site-packages\\sklearn\\ensemble\\_weight_boosting.py:519: FutureWarning: The SAMME.R algorithm (the default) is deprecated and will be removed in 1.6. Use the SAMME algorithm to circumvent this warning.\n",
      "  warnings.warn(\n"
     ]
    }
   ],
   "source": [
    "import pandas as pd\n",
    "\n",
    "data = pd.read_csv('heart_statlog_cleveland_hungary_final.csv')\n",
    "# encoding='latin-1'\n",
    "\n",
    "print(data.head(10))\n",
    "\n",
    "print(data.isnull().sum())\n",
    "\n",
    "print(data.info())\n",
    "\n",
    "data = data.dropna()\n",
    "\n",
    "data = data.drop_duplicates()\n",
    "\n",
    "import seaborn as sns\n",
    "import matplotlib.pyplot as plt\n",
    "\n",
    "print(data['age'].value_counts())\n",
    "\n",
    "print(data['sex'].value_counts())\n",
    "\n",
    "print(data['chest pain type'].value_counts())\n",
    "\n",
    "data['resting bp s'].value_counts().plot(kind='bar', alpha=0.7, figsize=(15, 10))\n",
    "plt.show()\n",
    "\n",
    "#x = data.iloc[:, data.columns != \"target\"]\n",
    "x=data[['age','sex','chest pain type','cholesterol', 'fasting blood sugar', 'max heart rate']]\n",
    "y = data['target']\n",
    "\n",
    "from sklearn.model_selection import train_test_split\n",
    "\n",
    "x_train, x_test, y_train, y_test = train_test_split(x, y, test_size=0.2, train_size=0.8, random_state=42)\n",
    "\n",
    "from sklearn.preprocessing import StandardScaler\n",
    "\n",
    "StanderScaler = StandardScaler()\n",
    "x_train = StanderScaler.fit_transform(x_train)\n",
    "x_test = StanderScaler.transform(x_test)\n",
    "\n",
    "from sklearn.metrics import accuracy_score, mean_squared_error\n",
    "\n",
    "def model(model):\n",
    "    model_name = model()\n",
    "    model_name.fit(x_train, y_train)\n",
    "\n",
    "    print(\"mean squared error = {} \".format(mean_squared_error(y_test, model_name.predict(x_test))))\n",
    "    print(\"accuracy score = {} \".format(round(accuracy_score(y_test, model_name.predict(x_test)) * 100, 2)))\n",
    "\n",
    "from sklearn.ensemble import RandomForestClassifier\n",
    "RF_C = model(RandomForestClassifier)\n",
    "print(RF_C)\n",
    "\n",
    "import pickle\n",
    "#saved_model = pickle.dumps(LR)\n",
    "with open('RF_C.pkl','wb') as files:\n",
    "    pickle.dump(RF_C, files)\n",
    "\n",
    "from sklearn.tree import DecisionTreeClassifier\n",
    "DT_C = model(DecisionTreeClassifier)\n",
    "print(DT_C)\n",
    "\n",
    "from sklearn.linear_model import LogisticRegression\n",
    "LR = model(LogisticRegression)\n",
    "print(LR)\n",
    "\n",
    "from sklearn.svm import SVC\n",
    "SVC = model(SVC)\n",
    "print(SVC)\n",
    "\n",
    "from sklearn.linear_model import RidgeClassifier\n",
    "Risge_C = model(RidgeClassifier)\n",
    "print(Risge_C)\n",
    "\n",
    "from sklearn.ensemble import AdaBoostClassifier\n",
    "Ada_C = model(AdaBoostClassifier)\n",
    "print(AdaBoostClassifier)\n",
    "\n"
   ]
  }
 ],
 "metadata": {
  "kernelspec": {
   "display_name": "Python 3",
   "language": "python",
   "name": "python3"
  },
  "language_info": {
   "codemirror_mode": {
    "name": "ipython",
    "version": 3
   },
   "file_extension": ".py",
   "mimetype": "text/x-python",
   "name": "python",
   "nbconvert_exporter": "python",
   "pygments_lexer": "ipython3",
   "version": "3.9.15"
  }
 },
 "nbformat": 4,
 "nbformat_minor": 2
}
